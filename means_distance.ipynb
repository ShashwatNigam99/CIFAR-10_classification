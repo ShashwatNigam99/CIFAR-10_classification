{
 "cells": [
  {
   "cell_type": "code",
   "execution_count": 1,
   "metadata": {},
   "outputs": [],
   "source": [
    "import numpy as np\n",
    "import pickle\n",
    "import matplotlib.pyplot as plt\n",
    "%matplotlib inline"
   ]
  },
  {
   "cell_type": "code",
   "execution_count": 2,
   "metadata": {},
   "outputs": [],
   "source": [
    "def unpickle(file):\n",
    "    with open(file, 'rb') as fo:\n",
    "        dict = pickle.load(fo, encoding='bytes')\n",
    "    return dict"
   ]
  },
  {
   "cell_type": "code",
   "execution_count": 3,
   "metadata": {},
   "outputs": [],
   "source": [
    "data_dict = unpickle('./data/data_batch_1')\n",
    "data = data_dict[b'data']\n",
    "labels = data_dict[b'labels']\n",
    "for i in range(2,6):\n",
    "    data_dict = unpickle('./data/data_batch_'+str(i))\n",
    "    data = np.concatenate((data, data_dict[b'data']))\n",
    "    labels = np.concatenate((labels, data_dict[b'labels']))"
   ]
  },
  {
   "cell_type": "code",
   "execution_count": 4,
   "metadata": {},
   "outputs": [],
   "source": [
    "data=(data[:,0:1024]+data[:,1024:2048]+data[:,2048:3072])/3"
   ]
  },
  {
   "cell_type": "code",
   "execution_count": 5,
   "metadata": {},
   "outputs": [],
   "source": [
    "classes = []\n",
    "means = []\n",
    "for i in range(10):\n",
    "    classes.append(data[labels==i])\n",
    "for i in range(10):\n",
    "    means.append(np.mean(classes[i],0))"
   ]
  },
  {
   "cell_type": "code",
   "execution_count": 11,
   "metadata": {},
   "outputs": [],
   "source": [
    "emat = np.zeros([10,10])\n",
    "for i in range(0,10):\n",
    "    for j in range(i+1,10):\n",
    "        dist= np.linalg.norm(means[i]-means[j])\n",
    "        emat[i][j] = emat[j][i] = np.around(dist,2)\n",
    "#         print(\"Distance between mean of\", i , \"and\", j, \"is\", dist)"
   ]
  },
  {
   "cell_type": "code",
   "execution_count": 12,
   "metadata": {},
   "outputs": [
    {
     "name": "stdout",
     "output_type": "stream",
     "text": [
      "[[  0.    45.49  49.6   55.35  54.62  64.41  56.16  35.31  36.31  78.61]\n",
      " [ 45.49   0.    61.26  70.58  66.4   79.14  69.9   45.63  40.73  59.93]\n",
      " [ 49.6   61.26   0.    22.53  16.37  27.22  24.84  33.05  33.45 108.58]\n",
      " [ 55.35  70.58  22.53   0.    19.96  20.63  17.55  42.01  45.33 118.36]\n",
      " [ 54.62  66.4   16.37  19.96   0.    22.01  21.74  37.97  39.01 114.54]\n",
      " [ 64.41  79.14  27.22  20.63  22.01   0.    24.04  47.58  50.5  126.85]\n",
      " [ 56.16  69.9   24.84  17.55  21.74  24.04   0.    44.99  47.42 119.64]\n",
      " [ 35.31  45.63  33.05  42.01  37.97  47.58  44.99   0.    19.44  83.67]\n",
      " [ 36.31  40.73  33.45  45.33  39.01  50.5   47.42  19.44   0.    81.99]\n",
      " [ 78.61  59.93 108.58 118.36 114.54 126.85 119.64  83.67  81.99   0.  ]]\n"
     ]
    }
   ],
   "source": [
    "print(emat)"
   ]
  }
 ],
 "metadata": {
  "kernelspec": {
   "display_name": "Python 3",
   "language": "python",
   "name": "python3"
  },
  "language_info": {
   "codemirror_mode": {
    "name": "ipython",
    "version": 3
   },
   "file_extension": ".py",
   "mimetype": "text/x-python",
   "name": "python",
   "nbconvert_exporter": "python",
   "pygments_lexer": "ipython3",
   "version": "3.7.3"
  }
 },
 "nbformat": 4,
 "nbformat_minor": 2
}
