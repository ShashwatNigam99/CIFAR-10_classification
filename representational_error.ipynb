{
 "cells": [
  {
   "cell_type": "code",
   "execution_count": 1,
   "metadata": {},
   "outputs": [],
   "source": [
    "import numpy as np\n",
    "import pickle\n",
    "import matplotlib.pyplot as plt\n",
    "%matplotlib inline"
   ]
  },
  {
   "cell_type": "code",
   "execution_count": 2,
   "metadata": {},
   "outputs": [],
   "source": [
    "def unpickle(file):\n",
    "    with open(file, 'rb') as fo:\n",
    "        dict = pickle.load(fo, encoding='bytes')\n",
    "    return dict"
   ]
  },
  {
   "cell_type": "code",
   "execution_count": 3,
   "metadata": {},
   "outputs": [],
   "source": [
    "data_dict = unpickle('./data/data_batch_1')\n",
    "data = data_dict[b'data']\n",
    "labels = data_dict[b'labels']\n",
    "for i in range(2,6):\n",
    "    data_dict = unpickle('./data/data_batch_'+str(i))\n",
    "    data = np.concatenate((data, data_dict[b'data']))\n",
    "    labels = np.concatenate((labels, data_dict[b'labels']))"
   ]
  },
  {
   "cell_type": "code",
   "execution_count": 4,
   "metadata": {},
   "outputs": [],
   "source": [
    "data=(data[:,0:1024]+data[:,1024:2048]+data[:,2048:3072])/3"
   ]
  },
  {
   "cell_type": "code",
   "execution_count": 5,
   "metadata": {},
   "outputs": [],
   "source": [
    "classes = []\n",
    "means = []\n",
    "for i in range(10):\n",
    "    classes.append(data[labels==i])\n",
    "for i in range(10):\n",
    "    means.append(np.mean(classes[i],0))"
   ]
  },
  {
   "cell_type": "code",
   "execution_count": 6,
   "metadata": {},
   "outputs": [],
   "source": [
    "pc20_eigvecs_classes = []\n",
    "pc20_eigvals_classes = []\n",
    "for i in range(10):\n",
    "    class_data = classes[i]\n",
    "    class_mean = means[i]\n",
    "    class_cov  = np.cov(class_data.T)\n",
    "    evals,evecs = np.linalg.eigh(class_cov)\n",
    "    evals = evals[::-1]\n",
    "    evecs = evecs.T[::-1].T\n",
    "    pc20_eigvecs_classes.append(evecs[:,:20])\n",
    "    pc20_eigvals_classes.append(evals[:20])"
   ]
  },
  {
   "cell_type": "code",
   "execution_count": 7,
   "metadata": {},
   "outputs": [],
   "source": [
    "projected_class_data = []\n",
    "for i in range(10):\n",
    "    reduced = np.matmul(classes[i],pc20_eigvecs_classes[i])\n",
    "    projected_class_data.append(reduced)"
   ]
  },
  {
   "cell_type": "code",
   "execution_count": 8,
   "metadata": {},
   "outputs": [],
   "source": [
    "errors = []\n",
    "for i in range(10):\n",
    "    # taking norms along rows(images)\n",
    "    norms_og = np.linalg.norm(classes[i],axis=1)\n",
    "    # taking norms of projected\n",
    "    norms_proj = np.linalg.norm(projected_class_data[i],axis=1)\n",
    "    error = (1/5000)*( np.sum(np.sqrt( np.square(norms_og)-np.square(norms_proj) )) )\n",
    "    errors.append(error)"
   ]
  },
  {
   "cell_type": "code",
   "execution_count": 10,
   "metadata": {},
   "outputs": [
    {
     "name": "stdout",
     "output_type": "stream",
     "text": [
      "[578.15697987 678.66787608 627.12153859 662.57142198 671.26221752\n",
      " 666.92476072 695.56446513 673.57844967 614.81361072 676.65901035]\n"
     ]
    },
    {
     "data": {
      "image/png": "[encoded data removed]",
      "text/plain": [
       "<Figure size 432x288 with 1 Axes>"
      ]
     },
     "metadata": {
      "needs_background": "light"
     },
     "output_type": "display_data"
    }
   ],
   "source": [
    "print(errors)\n",
    "errors = np.array(errors)\n",
    "plt.plot(errors)\n",
    "plt.title('Classes Vs Representational MSE(Top 20 eigenvectors)')\n",
    "plt.show()"
   ]
  }
 ],
 "metadata": {
  "kernelspec": {
   "display_name": "Python 3",
   "language": "python",
   "name": "python3"
  },
  "language_info": {
   "codemirror_mode": {
    "name": "ipython",
    "version": 3
   },
   "file_extension": ".py",
   "mimetype": "text/x-python",
   "name": "python",
   "nbconvert_exporter": "python",
   "pygments_lexer": "ipython3",
   "version": "3.7.3"
  }
 },
 "nbformat": 4,
 "nbformat_minor": 2
}
