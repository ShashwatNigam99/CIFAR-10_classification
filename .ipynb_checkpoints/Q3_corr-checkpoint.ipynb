{
 "cells": [
  {
   "cell_type": "code",
   "execution_count": 1,
   "metadata": {},
   "outputs": [],
   "source": [
    "import numpy as np\n",
    "import matplotlib.pyplot as plt\n",
    "import pickle\n",
    "\n",
    "plt.style.use('dark_background')\n",
    "%matplotlib notebook\n"
   ]
  },
  {
   "cell_type": "code",
   "execution_count": 2,
   "metadata": {},
   "outputs": [],
   "source": [
    "def unpickle(file):\n",
    "    with open(file, 'rb') as fo:\n",
    "        dict = pickle.load(fo, encoding='bytes')\n",
    "    return dict"
   ]
  },
  {
   "cell_type": "code",
   "execution_count": 4,
   "metadata": {},
   "outputs": [
    {
     "name": "stdout",
     "output_type": "stream",
     "text": [
      "Data Loaded Successfully\n"
     ]
    }
   ],
   "source": [
    "data_dict = unpickle('./data/data_batch_1')\n",
    "data = data_dict[b'data']\n",
    "labels = data_dict[b'labels']\n",
    "for i in range(2,6):\n",
    "    data_dict = unpickle('./data/data_batch_'+str(i))\n",
    "    data = np.concatenate((data, data_dict[b'data']))\n",
    "    labels = np.concatenate((labels, data_dict[b'labels']))\n",
    "    \n",
    "category = []\n",
    "for i in range(10):\n",
    "    category.append(data[labels == i])\n",
    "category = np.array(category)\n",
    "\n",
    "print(\"Data Loaded Successfully\")"
   ]
  },
  {
   "cell_type": "code",
   "execution_count": 5,
   "metadata": {},
   "outputs": [
    {
     "name": "stdout",
     "output_type": "stream",
     "text": [
      "Class 0\n",
      "Class 1\n",
      "Class 2\n",
      "Class 3\n",
      "Class 4\n",
      "Class 5\n",
      "Class 6\n",
      "Class 7\n",
      "Class 8\n",
      "Class 9\n"
     ]
    }
   ],
   "source": [
    "category_mean = []\n",
    "category_v = []\n",
    "category_w = []\n",
    "for i in range(len(category)):\n",
    "    print(\"Class {}\".format(i))\n",
    "    category_mean.append(np.mean(category[i], axis = 0))\n",
    "    \n",
    "    # mean centering the data\n",
    "#     category[i] = category[i] - category_mean[i]\n",
    "    \n",
    "    # Calculating the covariance\n",
    "    cov_class = np.cov(category[i].T)\n",
    "    \n",
    "    # Calculating the Eigen values and Eigen vectors and sorting them\n",
    "#     w, v = np.linalg.eig(cov_class)\n",
    "#     idx = w.argsort()[::-1]   \n",
    "#     w = w[idx]\n",
    "#     v = v[:,idx]\n",
    "    v, s, vh = np.linalg.svd(cov_class, full_matrices=True)\n",
    "    \n",
    "    # Selecting the first 20 eigen values and eigen vectors\n",
    "    category_v.append(v[:,0:20])\n",
    "#     category_w.append(w[0:20])\n",
    "    \n",
    "category_mean = np.array(category_mean)"
   ]
  },
  {
   "cell_type": "code",
   "execution_count": 6,
   "metadata": {},
   "outputs": [],
   "source": [
    "category_v = np.array(category_v)\n",
    "# category_w = np.array(category_w)"
   ]
  },
  {
   "cell_type": "code",
   "execution_count": 7,
   "metadata": {},
   "outputs": [],
   "source": [
    "# Performing dimensionality reduction\n",
    "reduced_data = []\n",
    "for i in range(len(category)):\n",
    "    reduced_data.append(category[i] @ category_v[i])\n",
    "    \n",
    "# Reconstructing the data\n",
    "reconstructed_data = []\n",
    "for i in range(len(reduced_data)):\n",
    "#     reconstructed_data.append(reduced_data[i] @ category_v[i].T + category_mean[i])    \n",
    "    reconstructed_data.append(reduced_data[i] @ category_v[i].T)"
   ]
  },
  {
   "cell_type": "code",
   "execution_count": 8,
   "metadata": {},
   "outputs": [],
   "source": [
    "# Finding the error in the classes\n",
    "errors = []\n",
    "for i in range(len(reconstructed_data)):\n",
    "    error = np.sqrt(1/3072 * np.sum(np.square(reconstructed_data[i] - category[i]), axis=1))\n",
    "    errors.append(np.mean(error))"
   ]
  },
  {
   "cell_type": "code",
   "execution_count": 9,
   "metadata": {},
   "outputs": [
    {
     "data": {
      "image/png": "[encoded data removed]",
      "text/plain": [
       "<Figure size 432x288 with 1 Axes>"
      ]
     },
     "metadata": {
      "needs_background": "dark"
     },
     "output_type": "display_data"
    }
   ],
   "source": [
    "plt.plot()\n",
    "plt.plot(np.arange(10), errors, '*-', color='chartreuse', label='Reconstruction Errors vs class')\n",
    "plt.title('Reconstruction Errors')\n",
    "plt.xlabel('Class')\n",
    "plt.ylabel('Errors')\n",
    "plt.legend(loc='upper left')\n",
    "plt.grid()\n",
    "plt.show()"
   ]
  },
  {
   "cell_type": "code",
   "execution_count": 10,
   "metadata": {},
   "outputs": [
    {
     "name": "stdout",
     "output_type": "stream",
     "text": [
      "Distance between mean images of Class 0 and Class 1 = 1654.6550264230548\n",
      "Distance between mean images of Class 0 and Class 2 = 1584.8406739516752\n",
      "Distance between mean images of Class 0 and Class 3 = 1882.421820216691\n",
      "Distance between mean images of Class 0 and Class 4 = 2110.0840056161746\n",
      "Distance between mean images of Class 0 and Class 5 = 1961.09249750394\n",
      "Distance between mean images of Class 0 and Class 6 = 2424.217607443581\n",
      "Distance between mean images of Class 0 and Class 7 = 1654.7056695702229\n",
      "Distance between mean images of Class 0 and Class 8 = 919.9506754233294\n",
      "Distance between mean images of Class 0 and Class 9 = 1437.5631858531576\n",
      "Distance between mean images of Class 1 and Class 2 = 883.953772299502\n",
      "Distance between mean images of Class 1 and Class 3 = 1026.7161319126724\n",
      "Distance between mean images of Class 1 and Class 4 = 1137.7623113034638\n",
      "Distance between mean images of Class 1 and Class 5 = 1218.7734348416197\n",
      "Distance between mean images of Class 1 and Class 6 = 1193.4425634626243\n",
      "Distance between mean images of Class 1 and Class 7 = 954.3322147507544\n",
      "Distance between mean images of Class 1 and Class 8 = 1307.950124044843\n",
      "Distance between mean images of Class 1 and Class 9 = 944.6283901897508\n",
      "Distance between mean images of Class 2 and Class 3 = 521.368930821851\n",
      "Distance between mean images of Class 2 and Class 4 = 585.9996349386577\n",
      "Distance between mean images of Class 2 and Class 5 = 713.2339609680403\n",
      "Distance between mean images of Class 2 and Class 6 = 913.9498969679028\n",
      "Distance between mean images of Class 2 and Class 7 = 415.3821145293572\n",
      "Distance between mean images of Class 2 and Class 8 = 1562.0578681860413\n",
      "Distance between mean images of Class 2 and Class 9 = 1418.9723685815027\n",
      "Distance between mean images of Class 3 and Class 4 = 465.8046868376488\n",
      "Distance between mean images of Class 3 and Class 5 = 405.3074256794218\n",
      "Distance between mean images of Class 3 and Class 6 = 681.1152814393463\n",
      "Distance between mean images of Class 3 and Class 7 = 594.1508608222663\n",
      "Distance between mean images of Class 3 and Class 8 = 1849.6353269908748\n",
      "Distance between mean images of Class 3 and Class 9 = 1678.7066675043739\n",
      "Distance between mean images of Class 4 and Class 5 = 605.1235224055995\n",
      "Distance between mean images of Class 4 and Class 6 = 473.232006603146\n",
      "Distance between mean images of Class 4 and Class 7 = 659.7982845767939\n",
      "Distance between mean images of Class 4 and Class 8 = 2056.2603952146333\n",
      "Distance between mean images of Class 4 and Class 9 = 1823.716628906684\n",
      "Distance between mean images of Class 5 and Class 6 = 815.6144862841268\n",
      "Distance between mean images of Class 5 and Class 7 = 848.72513594374\n",
      "Distance between mean images of Class 5 and Class 8 = 1909.4465168295653\n",
      "Distance between mean images of Class 5 and Class 9 = 1889.6856371448982\n",
      "Distance between mean images of Class 6 and Class 7 = 941.5341833213067\n",
      "Distance between mean images of Class 6 and Class 8 = 2253.53379760229\n",
      "Distance between mean images of Class 6 and Class 9 = 1914.9037308124707\n",
      "Distance between mean images of Class 7 and Class 8 = 1678.5518551630867\n",
      "Distance between mean images of Class 7 and Class 9 = 1364.9925140491432\n",
      "Distance between mean images of Class 8 and Class 9 = 1074.0657815826924\n"
     ]
    }
   ],
   "source": [
    "# Computing the distances between mean images of each class\n",
    "for i in range(10):\n",
    "    for j in range(i,10):\n",
    "        if i != j:\n",
    "            dist = np.linalg.norm(category_mean[i] - category_mean[j])\n",
    "            print(\"Distance between mean images of Class {} and Class {} = {}\".format(i,j,dist))\n",
    "            "
   ]
  },
  {
   "cell_type": "code",
   "execution_count": 11,
   "metadata": {},
   "outputs": [],
   "source": [
    "def compute_new_similarity(classA, classB, classA_mean, classB_mean, classA_eigvec, classB_eigvec):\n",
    "    reduced_A = (classA - classA_mean) @ classB_eigvec\n",
    "    reduced_B = (classB - classB_mean) @ classA_eigvec\n",
    "    reconstructed_A = reduced_A @ classB_eigvec.T + classA_mean    \n",
    "    reconstructed_B = reduced_B @ classA_eigvec.T + classB_mean\n",
    "    errors = []\n",
    "    errorA = np.mean(np.sqrt(1/3072 * np.sum(np.square(reconstructed_A - classA), axis=1)))\n",
    "    errorB = np.mean(np.sqrt(1/3072 * np.sum(np.square(reconstructed_B - classB), axis=1)))\n",
    "    return np.mean(np.array([errorA, errorB]))"
   ]
  },
  {
   "cell_type": "code",
   "execution_count": 12,
   "metadata": {},
   "outputs": [],
   "source": [
    "# Computing the new similarity between classes\n",
    "for i in range(10):\n",
    "    similarity = []\n",
    "    for j in range(0,10):\n",
    "        if i == j:\n",
    "            similarity.append(0)\n",
    "        if i != j:\n",
    "            sim = compute_new_similarity(category[i], category[j], category_mean[i], category_mean[j], category_v[i], category_v[j])\n",
    "            similarity.append(sim)\n",
    "#             print(\"Similarity Class {} and Class {} = {}\".format(i,j,sim))\n",
    "    print(np.argsort(similarity)[::-1][:3])\n",
    "    \n",
    "        "
   ]
  },
  {
   "cell_type": "code",
   "execution_count": null,
   "metadata": {},
   "outputs": [],
   "source": []
  }
 ],
 "metadata": {
  "kernelspec": {
   "display_name": "Python 3",
   "language": "python",
   "name": "python3"
  },
  "language_info": {
   "codemirror_mode": {
    "name": "ipython",
    "version": 3
   },
   "file_extension": ".py",
   "mimetype": "text/x-python",
   "name": "python",
   "nbconvert_exporter": "python",
   "pygments_lexer": "ipython3",
   "version": "3.7.3"
  }
 },
 "nbformat": 4,
 "nbformat_minor": 2
}
