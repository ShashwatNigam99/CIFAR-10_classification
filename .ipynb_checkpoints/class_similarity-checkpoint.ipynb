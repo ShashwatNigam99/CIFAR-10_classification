{
 "cells": [
  {
   "cell_type": "code",
   "execution_count": 1,
   "metadata": {},
   "outputs": [],
   "source": [
    "import numpy as np\n",
    "import pickle\n",
    "import matplotlib.pyplot as plt\n",
    "%matplotlib inline"
   ]
  },
  {
   "cell_type": "code",
   "execution_count": 2,
   "metadata": {},
   "outputs": [],
   "source": [
    "def unpickle(file):\n",
    "    with open(file, 'rb') as fo:\n",
    "        dict = pickle.load(fo, encoding='bytes')\n",
    "    return dict"
   ]
  },
  {
   "cell_type": "code",
   "execution_count": 3,
   "metadata": {},
   "outputs": [],
   "source": [
    "data_dict = unpickle('./data/data_batch_1')\n",
    "data = data_dict[b'data']\n",
    "labels = data_dict[b'labels']\n",
    "for i in range(2,6):\n",
    "    data_dict = unpickle('./data/data_batch_'+str(i))\n",
    "    data = np.concatenate((data, data_dict[b'data']))\n",
    "    labels = np.concatenate((labels, data_dict[b'labels']))"
   ]
  },
  {
   "cell_type": "code",
   "execution_count": 4,
   "metadata": {},
   "outputs": [],
   "source": [
    "classes = []\n",
    "means = []\n",
    "for i in range(10):\n",
    "    classes.append(data[labels==i])\n",
    "for i in range(10):\n",
    "    means.append(np.mean(classes[i],0))"
   ]
  },
  {
   "cell_type": "code",
   "execution_count": 5,
   "metadata": {},
   "outputs": [],
   "source": [
    "pc20_eigvecs_classes = []\n",
    "pc20_eigvals_classes = []\n",
    "for i in range(10):\n",
    "    class_data = classes[i]\n",
    "    class_mean = means[i]\n",
    "    class_cov  = np.cov(class_data.T)\n",
    "    evals,evecs = np.linalg.eigh(class_cov)\n",
    "    evals = evals[::-1]\n",
    "    evecs = evecs.T[::-1].T\n",
    "    pc20_eigvecs_classes.append(evecs[:,:20])\n",
    "    pc20_eigvals_classes.append(evals[:20])"
   ]
  },
  {
   "cell_type": "code",
   "execution_count": 6,
   "metadata": {},
   "outputs": [],
   "source": [
    "projected_class_data = []\n",
    "for i in range(10):\n",
    "    reduced = np.matmul(classes[i],pc20_eigvecs_classes[i])\n",
    "    projected_class_data.append(reduced)"
   ]
  },
  {
   "cell_type": "code",
   "execution_count": 7,
   "metadata": {},
   "outputs": [],
   "source": [
    "errors = []\n",
    "for i in range(10):\n",
    "    # taking norms along rows(images)\n",
    "    norms_og = np.linalg.norm(classes[i],axis=1)\n",
    "    # taking norms of projected\n",
    "    norms_proj = np.linalg.norm(projected_class_data[i],axis=1)\n",
    "    error = (1/5000)*( np.sum(np.sqrt( np.square(norms_og)-np.square(norms_proj) )) )\n",
    "    errors.append(error)"
   ]
  },
  {
   "cell_type": "code",
   "execution_count": 8,
   "metadata": {},
   "outputs": [],
   "source": [
    "def calc_error(ca,ma,pc20b):\n",
    "    reduced = ma + np.matmul(ca-ma,pc20b) @ pc20b.T\n",
    "    error = (1/5000)*( np.sum(np.linalg.norm(ca-reduced,axis=1)) )\n",
    "    return error\n",
    "        "
   ]
  },
  {
   "cell_type": "code",
   "execution_count": 9,
   "metadata": {},
   "outputs": [],
   "source": [
    "E_mat = np.zeros([10,10])\n",
    "for i in range(10):\n",
    "    for j in range(10):\n",
    "        if i==j:\n",
    "            E_mat[i][j] = 9999999\n",
    "        if i!=j:\n",
    "            E_mat[i][j] = calc_error(classes[i],means[i],pc20_eigvecs_classes[j])         "
   ]
  },
  {
   "cell_type": "code",
   "execution_count": 10,
   "metadata": {},
   "outputs": [],
   "source": [
    "sim_mat = (E_mat + E_mat.T)/2"
   ]
  },
  {
   "cell_type": "code",
   "execution_count": 11,
   "metadata": {},
   "outputs": [
    {
     "name": "stdout",
     "output_type": "stream",
     "text": [
      "for class 0\n",
      "[4 8 2]\n",
      "for class 1\n",
      "[4 8 2]\n",
      "for class 2\n",
      "[4 6 0]\n",
      "for class 3\n",
      "[4 2 6]\n",
      "for class 4\n",
      "[2 0 8]\n",
      "for class 5\n",
      "[4 2 6]\n",
      "for class 6\n",
      "[4 2 8]\n",
      "for class 7\n",
      "[4 2 6]\n",
      "for class 8\n",
      "[4 0 2]\n",
      "for class 9\n",
      "[4 8 2]\n"
     ]
    }
   ],
   "source": [
    "for i in range(10):\n",
    "    print(\"For class\",i,\" similar classes:\",np.argsort(sim_mat[i])[:3])"
   ]
  }
 ],
 "metadata": {
  "kernelspec": {
   "display_name": "Python 3",
   "language": "python",
   "name": "python3"
  },
  "language_info": {
   "codemirror_mode": {
    "name": "ipython",
    "version": 3
   },
   "file_extension": ".py",
   "mimetype": "text/x-python",
   "name": "python",
   "nbconvert_exporter": "python",
   "pygments_lexer": "ipython3",
   "version": "3.7.3"
  }
 },
 "nbformat": 4,
 "nbformat_minor": 2
}
